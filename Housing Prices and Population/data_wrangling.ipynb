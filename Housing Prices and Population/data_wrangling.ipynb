{
 "cells": [
  {
   "cell_type": "code",
   "execution_count": 21,
   "metadata": {},
   "outputs": [],
   "source": [
    "import pandas as pd\n",
    "import numpy as np\n",
    "import seaborn as sns\n",
    "import matplotlib.pyplot as plt"
   ]
  },
  {
   "cell_type": "code",
   "execution_count": 22,
   "metadata": {},
   "outputs": [],
   "source": [
    "\n",
    "housing_data = pd.read_csv(\"housing_prices.csv\", delimiter=',', quotechar='\"')\n",
    "population_data = pd.read_csv(\"population_data.csv\", delimiter=',', quotechar='\"')"
   ]
  },
  {
   "cell_type": "code",
   "execution_count": 23,
   "metadata": {},
   "outputs": [],
   "source": [
    "country_name = \"United Kingdom\"\n",
    "country_population = population_data[population_data[\"Country Name\"] == country_name]\n"
   ]
  },
  {
   "cell_type": "code",
   "execution_count": 24,
   "metadata": {},
   "outputs": [],
   "source": [
    "country_population = country_population.loc[:, [\"Country Name\", \"Country Code\"] + [str(year) for year in range(2013, 2024)]]"
   ]
  },
  {
   "cell_type": "code",
   "execution_count": 25,
   "metadata": {},
   "outputs": [],
   "source": [
    "land_area_km2 = 243610  # Approx. land area of the UK\n",
    "uk_population = country_population.melt(id_vars=[\"Country Name\", \"Country Code\"], \n",
    "                                    var_name=\"Year\", value_name=\"Population\")\n",
    "uk_population[\"Year\"] = uk_population[\"Year\"].astype(int)\n",
    "uk_population[\"Population Density\"] = uk_population[\"Population\"] / land_area_km2"
   ]
  },
  {
   "cell_type": "code",
   "execution_count": 27,
   "metadata": {},
   "outputs": [],
   "source": [
    "housing_data['Date'] = pd.to_datetime(housing_data['Date'])"
   ]
  },
  {
   "cell_type": "code",
   "execution_count": 28,
   "metadata": {},
   "outputs": [],
   "source": [
    "filtered_data = housing_data[(housing_data['Date'].dt.month == 8) & (housing_data['Date'].dt.day == 1) & (housing_data['Date'].dt.year >= 2013) & (housing_data['Date'].dt.year <= 2023)]"
   ]
  },
  {
   "cell_type": "code",
   "execution_count": 33,
   "metadata": {},
   "outputs": [],
   "source": [
    "filtered_data = filtered_data.sort_values(by='Date')"
   ]
  },
  {
   "cell_type": "code",
   "execution_count": 35,
   "metadata": {},
   "outputs": [],
   "source": [
    "housing_data =filtered_data[[\"Date\", \"Price (All)\"]]"
   ]
  },
  {
   "cell_type": "code",
   "execution_count": 44,
   "metadata": {},
   "outputs": [
    {
     "name": "stderr",
     "output_type": "stream",
     "text": [
      "/var/folders/r9/hs7j8x6s2_qczl2vyt_y375w0000gn/T/ipykernel_10337/2550921810.py:1: SettingWithCopyWarning: \n",
      "A value is trying to be set on a copy of a slice from a DataFrame.\n",
      "Try using .loc[row_indexer,col_indexer] = value instead\n",
      "\n",
      "See the caveats in the documentation: https://pandas.pydata.org/pandas-docs/stable/user_guide/indexing.html#returning-a-view-versus-a-copy\n",
      "  housing_data[\"Year\"] = pd.to_datetime(housing_data[\"Date\"]).dt.year\n"
     ]
    }
   ],
   "source": [
    "housing_data[\"Year\"] = pd.to_datetime(housing_data[\"Date\"]).dt.year\n",
    "housing_data = housing_data.drop(columns=[\"Date\"])"
   ]
  },
  {
   "cell_type": "code",
   "execution_count": 45,
   "metadata": {},
   "outputs": [
    {
     "name": "stdout",
     "output_type": "stream",
     "text": [
      "      Country Name Country Code  Year  Population  Population Density\n",
      "0   United Kingdom          GBR  2013  64128273.0          263.241546\n",
      "1   United Kingdom          GBR  2014  64602298.0          265.187381\n",
      "2   United Kingdom          GBR  2015  65116219.0          267.296987\n",
      "3   United Kingdom          GBR  2016  65611593.0          269.330459\n",
      "4   United Kingdom          GBR  2017  66058859.0          271.166450\n",
      "5   United Kingdom          GBR  2018  66460344.0          272.814515\n",
      "6   United Kingdom          GBR  2019  66836327.0          274.357896\n",
      "7   United Kingdom          GBR  2020  67081234.0          275.363220\n",
      "8   United Kingdom          GBR  2021  67026292.0          275.137687\n",
      "9   United Kingdom          GBR  2022  67791000.0          278.276754\n",
      "10  United Kingdom          GBR  2023  68350000.0          280.571405\n"
     ]
    }
   ],
   "source": [
    "print(uk_population)"
   ]
  },
  {
   "cell_type": "code",
   "execution_count": 46,
   "metadata": {},
   "outputs": [
    {
     "name": "stdout",
     "output_type": "stream",
     "text": [
      "    Price (All)  Year\n",
      "44       170918  2013\n",
      "40       188810  2014\n",
      "36       195733  2015\n",
      "32       206346  2016\n",
      "28       211672  2017\n",
      "24       216103  2018\n",
      "20       216805  2019\n",
      "16       224337  2020\n",
      "12       247535  2021\n",
      "8        273135  2022\n",
      "4        260181  2023\n"
     ]
    }
   ],
   "source": [
    "print(housing_data)"
   ]
  },
  {
   "cell_type": "code",
   "execution_count": 47,
   "metadata": {},
   "outputs": [],
   "source": [
    "merged_data = pd.merge(housing_data, uk_population, on=\"Year\", how=\"inner\")"
   ]
  },
  {
   "cell_type": "code",
   "execution_count": 48,
   "metadata": {},
   "outputs": [
    {
     "name": "stdout",
     "output_type": "stream",
     "text": [
      "    Year  Price (All)  Population Density\n",
      "0   2013       170918          263.241546\n",
      "1   2014       188810          265.187381\n",
      "2   2015       195733          267.296987\n",
      "3   2016       206346          269.330459\n",
      "4   2017       211672          271.166450\n",
      "5   2018       216103          272.814515\n",
      "6   2019       216805          274.357896\n",
      "7   2020       224337          275.363220\n",
      "8   2021       247535          275.137687\n",
      "9   2022       273135          278.276754\n",
      "10  2023       260181          280.571405\n"
     ]
    }
   ],
   "source": [
    "merged_data = merged_data[[\"Year\", \"Price (All)\", \"Population Density\"]]\n",
    "print(merged_data)"
   ]
  },
  {
   "cell_type": "code",
   "execution_count": 49,
   "metadata": {},
   "outputs": [
    {
     "name": "stdout",
     "output_type": "stream",
     "text": [
      "Correlation between housing prices and population density: 0.94\n"
     ]
    }
   ],
   "source": [
    "correlation = merged_data[\"Price (All)\"].corr(merged_data[\"Population Density\"])\n",
    "print(f\"Correlation between housing prices and population density: {correlation:.2f}\")"
   ]
  }
 ],
 "metadata": {
  "kernelspec": {
   "display_name": "project_is",
   "language": "python",
   "name": "python3"
  },
  "language_info": {
   "codemirror_mode": {
    "name": "ipython",
    "version": 3
   },
   "file_extension": ".py",
   "mimetype": "text/x-python",
   "name": "python",
   "nbconvert_exporter": "python",
   "pygments_lexer": "ipython3",
   "version": "3.9.18"
  },
  "orig_nbformat": 4
 },
 "nbformat": 4,
 "nbformat_minor": 2
}
